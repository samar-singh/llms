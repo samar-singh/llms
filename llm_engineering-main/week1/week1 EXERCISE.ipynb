{
 "cells": [
  {
   "cell_type": "markdown",
   "id": "fe12c203-e6a6-452c-a655-afb8a03a4ff5",
   "metadata": {
    "editable": true,
    "slideshow": {
     "slide_type": ""
    },
    "tags": []
   },
   "source": [
    "# End of week 1 exercise\n",
    "\n",
    "To demonstrate your familiarity with OpenAI API, and also Ollama, build a tool that takes a technical question,  \n",
    "and responds with an explanation. This is a tool that you will be able to use yourself during the course!"
   ]
  },
  {
   "cell_type": "code",
   "execution_count": null,
   "id": "baefcfe5-08fa-4eff-a22a-d1c248818a5e",
   "metadata": {},
   "outputs": [],
   "source": [
    "# imports\n",
    "# set up environment\n",
    "import os\n",
    "import requests\n",
    "import json\n",
    "from typing import List\n",
    "from dotenv import load_dotenv\n",
    "from bs4 import BeautifulSoup\n",
    "from IPython.display import Markdown, display, update_display\n",
    "from openai import OpenAI"
   ]
  },
  {
   "cell_type": "raw",
   "id": "4dc5ddee-7e5b-4a25-a102-95650dc4c104",
   "metadata": {},
   "source": [
    "# constants\n",
    "\n",
    "MODEL_GPT = 'gpt-4o-mini'\n",
    "MODEL_LLAMA = 'llama3.2'"
   ]
  },
  {
   "cell_type": "code",
   "execution_count": null,
   "id": "a8d7923c-5f28-4c30-8556-342d7c8497c1",
   "metadata": {},
   "outputs": [],
   "source": [
    "# Constants\n",
    "\n",
    "OLLAMA_API = \"http://localhost:11434/api/chat\"\n",
    "HEADERS = {\"Content-Type\": \"application/json\"}\n",
    "MODEL = MODEL_LLAMA\n",
    "\n",
    "load_dotenv(override=True)\n",
    "api_key = os.getenv('OPENAI_API_KEY')\n",
    "\n",
    "if api_key and api_key.startswith('sk-proj-') and len(api_key)>10:\n",
    "    print(\"API key looks good so far\")\n",
    "else:\n",
    "    print(\"There might be a problem with your API key? Please visit the troubleshooting notebook!\")\n",
    "    \n",
    "openai = OpenAI()"
   ]
  },
  {
   "cell_type": "code",
   "execution_count": null,
   "id": "5d9e9b2a-0058-467c-9af2-b2d6436a465f",
   "metadata": {},
   "outputs": [],
   "source": [
    "link_system_prompt = \"You are technical assistant who should answer a coding related question \\\n",
    "Try to be concise and give at least 2 examples of usage examples for the code in question \\n\""
   ]
  },
  {
   "cell_type": "code",
   "execution_count": null,
   "id": "3f0d0137-52b0-47a8-81a8-11a90a010798",
   "metadata": {
    "editable": true,
    "slideshow": {
     "slide_type": ""
    },
    "tags": []
   },
   "outputs": [],
   "source": [
    "# here is the question; type over this to ask something new\n",
    "def user_prompt(code_question):\n",
    "    question = f\"\"\"\n",
    "    Please explain what this code does and why: {code_question}\n",
    "    \"\"\"\n",
    "    return question"
   ]
  },
  {
   "cell_type": "code",
   "execution_count": 66,
   "id": "34421385-ad22-4491-903b-4cdda31c5b1c",
   "metadata": {
    "editable": true,
    "slideshow": {
     "slide_type": ""
    },
    "tags": []
   },
   "outputs": [],
   "source": [
    "# here is the question; type over this to ask something new\n",
    "def user_prompt(code_question):\n",
    "    question = f\"\"\"\n",
    "    Please explain what this code does and why: {code_question}\n",
    "    \"\"\"\n",
    "    return question"
   ]
  },
  {
   "cell_type": "code",
   "execution_count": 67,
   "id": "647f72ec-dd01-492b-9f25-4803bd95944b",
   "metadata": {
    "editable": true,
    "slideshow": {
     "slide_type": ""
    },
    "tags": []
   },
   "outputs": [],
   "source": [
    "def stream_response(code_question):\n",
    "    messages = [\n",
    "        {\"role\": \"system\", \"content\": link_system_prompt},\n",
    "        {\"role\": \"user\", \"content\": user_prompt(code_question)}\n",
    "    ]    \n",
    "    stream = openai.chat.completions.create(\n",
    "    model=MODEL_GPT,\n",
    "    messages=messages,\n",
    "    stream=True)\n",
    "    response = \"\"\n",
    "    display_handle = display(Markdown(\"\"), display_id=True)\n",
    "    for chunk in stream:\n",
    "        response += chunk.choices[0].delta.content or ''\n",
    "        response = response.replace(\"```\",\"\").replace(\"markdown\", \"\")\n",
    "        update_display(Markdown(response), display_id=display_handle.display_id)"
   ]
  },
  {
   "cell_type": "code",
   "execution_count": 68,
   "id": "3307bd66-adc6-4c4b-997a-b00fcdccd232",
   "metadata": {
    "editable": true,
    "slideshow": {
     "slide_type": ""
    },
    "tags": []
   },
   "outputs": [
    {
     "name": "stdin",
     "output_type": "stream",
     "text": [
      "Please enter the code you want to understand def myfunction():\n"
     ]
    },
    {
     "data": {
      "text/markdown": [
       "The line of code you've provided defines a function named `myfunction` in Python. However, the function currently does not perform any actions or return any values, as it lacks both code within its body and a return statement. When you define a function, you're essentially creating a reusable block of code that can be executed when called.\n",
       "\n",
       "Here's a simple breakdown:\n",
       "\n",
       "- **`def`**: This keyword is used to define a new function.\n",
       "- **`myfunction()`**: This is the name of the function, and the parentheses indicate that it can accept parameters (though none are specified here).\n",
       "- The function body is currently empty, which means that if you call `myfunction()`, nothing will happen.\n",
       "\n",
       "### Usage Examples\n",
       "\n",
       "1. **Simple Function Definition**:\n",
       "   If you were to add functionality to `myfunction`, it could look something like this:\n",
       "   python\n",
       "   def myfunction():\n",
       "       print(\"Hello, world!\")\n",
       "   myfunction()  # This will print: Hello, world!\n",
       "   \n",
       "\n",
       "2. **Function with Parameters**:\n",
       "   You could also define a function that takes an argument:\n",
       "   python\n",
       "   def myfunction(name):\n",
       "       print(f\"Hello, {name}!\")\n",
       "   myfunction(\"Alice\")  # This will print: Hello, Alice!\n",
       "   \n",
       "\n",
       "In summary, `def myfunction():` sets up a framework for a function, but you will need to add commands within it to perform any actions when it is called."
      ],
      "text/plain": [
       "<IPython.core.display.Markdown object>"
      ]
     },
     "metadata": {},
     "output_type": "display_data"
    }
   ],
   "source": [
    "code_query = \"Please enter the code you want to understand\"\n",
    "stream_response(input(code_query))"
   ]
  },
  {
   "cell_type": "code",
   "execution_count": null,
   "id": "8f7c8ea8-4082-4ad0-8751-3301adcf6538",
   "metadata": {
    "editable": true,
    "slideshow": {
     "slide_type": ""
    },
    "tags": []
   },
   "outputs": [],
   "source": [
    "# Get Llama 3.2 to answer\n",
    "def stream_llama_response(code_question):\n",
    "    messages = [\n",
    "        {\"role\": \"system\", \"content\": link_system_prompt},\n",
    "        {\"role\": \"user\", \"content\": user_prompt(code_question)}\n",
    "        ]   \n",
    "    payload = {\n",
    "        \"model\": MODEL,\n",
    "        \"messages\": messages,\n",
    "        \"stream\": True\n",
    "        }\n",
    "    try:\n",
    "        # Send a POST request to Llama API\n",
    "        response = requests.post(OLLAMA_API, json=payload, headers=HEADERS, stream=True)\n",
    "        \n",
    "        # Check if the request was successful\n",
    "        response.raise_for_status()\n",
    "        \n",
    "        # If stream=True, handle the stream accordingly (this might need adjustments based on the API)\n",
    "        result = \"\"\n",
    "        for chunk in response.iter_lines():\n",
    "            if chunk:\n",
    "                result += chunk.decode(\"utf-8\")\n",
    "        \n",
    "        # Assuming the API returns the response in a JSON-like format\n",
    "        return result\n",
    "\n",
    "    except requests.exceptions.RequestException as e:\n",
    "        print(f\"Error with the request: {e}\")\n",
    "        return None\n",
    "\n"
   ]
  },
  {
   "cell_type": "code",
   "execution_count": null,
   "id": "89244269-df50-42d6-869d-db8ee689b1b5",
   "metadata": {
    "editable": true,
    "slideshow": {
     "slide_type": ""
    },
    "tags": []
   },
   "outputs": [],
   "source": [
    "# Get the user input and run the function\n",
    "code_query = input(\"Please enter the code you want to understand: \")\n",
    "response = stream_llama_response(code_query)\n",
    "\n",
    "if response:\n",
    "    print(response)"
   ]
  }
 ],
 "metadata": {
  "kernelspec": {
   "display_name": "Python 3 (ipykernel)",
   "language": "python",
   "name": "python3"
  },
  "language_info": {
   "codemirror_mode": {
    "name": "ipython",
    "version": 3
   },
   "file_extension": ".py",
   "mimetype": "text/x-python",
   "name": "python",
   "nbconvert_exporter": "python",
   "pygments_lexer": "ipython3",
   "version": "3.11.11"
  }
 },
 "nbformat": 4,
 "nbformat_minor": 5
}
